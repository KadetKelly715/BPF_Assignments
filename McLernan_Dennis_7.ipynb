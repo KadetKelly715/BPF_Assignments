{
  "nbformat": 4,
  "nbformat_minor": 0,
  "metadata": {
    "colab": {
      "provenance": [],
      "include_colab_link": true
    },
    "kernelspec": {
      "name": "python3",
      "display_name": "Python 3"
    },
    "language_info": {
      "name": "python"
    }
  },
  "cells": [
    {
      "cell_type": "markdown",
      "metadata": {
        "id": "view-in-github",
        "colab_type": "text"
      },
      "source": [
        "<a href=\"https://colab.research.google.com/github/KadetKelly715/KadetKelly715/blob/main/McLernan_Dennis_7.ipynb\" target=\"_parent\"><img src=\"https://colab.research.google.com/assets/colab-badge.svg\" alt=\"Open In Colab\"/></a>"
      ]
    },
    {
      "cell_type": "code",
      "execution_count": null,
      "metadata": {
        "id": "U0kGrnVne9IG",
        "colab": {
          "base_uri": "https://localhost:8080/"
        },
        "outputId": "6aae8dc6-f984-4862-c0a1-34976daabeaf"
      },
      "outputs": [
        {
          "output_type": "stream",
          "name": "stdout",
          "text": [
            "What kind of cheese isn't yours?\n",
            "\n",
            "Nacho cheese\n",
            "\n",
            "\n",
            "\n",
            "What did 0 say to 8?\n",
            "\n",
            "Nice belt\n",
            "\n",
            "\n",
            "\n",
            "I had a friend named Tony who said I couldn't say his name backwards.\n",
            "\n",
            "I replied, \"Y not?\"\n",
            "\n"
          ]
        }
      ],
      "source": [
        "#\n",
        "# Opening 'dadjokes.txt'\n",
        "#\n",
        "file_dadjokes = open('dadjokes.txt', 'r')\n",
        "\n",
        "#\n",
        "# Print Loop\n",
        "#\n",
        "for lines in file_dadjokes:\n",
        "  print(lines)\n",
        "\n",
        "file_dadjokes.close()"
      ]
    },
    {
      "cell_type": "code",
      "source": [
        "file_dadjokes = open('dadjokes.txt', 'r')\n",
        "\n",
        "index = 1\n",
        "for lines in file_dadjokes:\n",
        "  print(f'{index}: {lines}')\n",
        "  index = index + 1\n",
        "\n",
        "file_dadjokes.close()\n",
        "\n"
      ],
      "metadata": {
        "colab": {
          "base_uri": "https://localhost:8080/"
        },
        "id": "nyLzG0Wghj4s",
        "outputId": "7ed17aa1-fd92-4f45-f356-e7f351636c35"
      },
      "execution_count": null,
      "outputs": [
        {
          "output_type": "stream",
          "name": "stdout",
          "text": [
            "1: What kind of cheese isn't yours?\n",
            "\n",
            "2: Nacho cheese\n",
            "\n",
            "3: \n",
            "\n",
            "4: What did 0 say to 8?\n",
            "\n",
            "5: Nice belt\n",
            "\n",
            "6: \n",
            "\n",
            "7: I had a friend named Tony who said I couldn't say his name backwards.\n",
            "\n",
            "8: I replied, \"Y not?\"\n",
            "\n"
          ]
        }
      ]
    }
  ]
}