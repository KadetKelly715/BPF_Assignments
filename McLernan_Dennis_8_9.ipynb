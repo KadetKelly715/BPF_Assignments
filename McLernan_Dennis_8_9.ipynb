{
  "nbformat": 4,
  "nbformat_minor": 0,
  "metadata": {
    "colab": {
      "provenance": [],
      "include_colab_link": true
    },
    "kernelspec": {
      "name": "python3",
      "display_name": "Python 3"
    },
    "language_info": {
      "name": "python"
    }
  },
  "cells": [
    {
      "cell_type": "markdown",
      "metadata": {
        "id": "view-in-github",
        "colab_type": "text"
      },
      "source": [
        "<a href=\"https://colab.research.google.com/github/KadetKelly715/KadetKelly715/blob/main/McLernan_Dennis_8_9.ipynb\" target=\"_parent\"><img src=\"https://colab.research.google.com/assets/colab-badge.svg\" alt=\"Open In Colab\"/></a>"
      ]
    },
    {
      "cell_type": "markdown",
      "source": [
        "# Exercises 8 & 9: Lists & Dictionaries\n",
        "\n",
        "MGMT 330 - Fundamentals of Business Programming\n",
        "\n",
        "Professor Flor"
      ],
      "metadata": {
        "id": "41GC_rfw38Bi"
      }
    },
    {
      "cell_type": "code",
      "execution_count": null,
      "metadata": {
        "id": "Wf2EUObTf2ad"
      },
      "outputs": [],
      "source": [
        "# Dennis McLernan\n",
        "# MGMT 330-002\n",
        "# 9/29/23"
      ]
    },
    {
      "cell_type": "markdown",
      "source": [
        "1. CREATING A LIST\n",
        "\n",
        "In the code chunk below:\n",
        "\n",
        "- Create a list named **scores**, with the values: *100, 90, 80, 70, 60, 50, 40, 30, 20, 10*\n",
        "- Print out the list\n",
        "- Run your code chunk\n",
        "\n"
      ],
      "metadata": {
        "id": "0LwYXlxt5Dx5"
      }
    },
    {
      "cell_type": "code",
      "source": [
        "scores = [100,90,80,70,60,50,40,30,20,10]"
      ],
      "metadata": {
        "id": "2mCRQihHg8SV"
      },
      "execution_count": 2,
      "outputs": []
    },
    {
      "cell_type": "markdown",
      "source": [
        "2. AVERAGING LIST VALUES\n",
        "\n",
        "In the code chunk below:\n",
        "\n",
        "- Copy the code for creating the score list from question #1\n",
        "- Calculate the score average\n",
        "- Print the average\n",
        "- Run your code chunk"
      ],
      "metadata": {
        "id": "6xxzHh5X6XzI"
      }
    },
    {
      "cell_type": "code",
      "source": [
        "scores = [100,90,80,70,60,50,40,30,20,10]"
      ],
      "metadata": {
        "id": "Gv3J7G2jhWlM"
      },
      "execution_count": null,
      "outputs": []
    },
    {
      "cell_type": "markdown",
      "source": [
        "3. APPENDING A VALUE\n",
        "\n",
        "In the code chunk below:\n",
        "\n",
        "- Copy the code for creating the score list from question #1\n",
        "- Print the scores before appending\n",
        "- Append a 50 to the end of the list\n",
        "- Print the scores after appending\n",
        "- Run your code chunk"
      ],
      "metadata": {
        "id": "PO6ZoVLK7cZM"
      }
    },
    {
      "cell_type": "code",
      "source": [],
      "metadata": {
        "id": "eQQhu6oCjP1o"
      },
      "execution_count": null,
      "outputs": []
    },
    {
      "cell_type": "markdown",
      "source": [
        "4. CLEARING AN ENTIRE LIST\n",
        "\n",
        "In the code chunk below:\n",
        "- Copy the code for creating the score list from question #1\n",
        "- Print the scores before clearing the list\n",
        "- Clear the list\n",
        "- Print the scores after clearing the list\n",
        "- Run your code chunk"
      ],
      "metadata": {
        "id": "iGi6b_yS8GVb"
      }
    },
    {
      "cell_type": "code",
      "source": [],
      "metadata": {
        "id": "63EB8aGSkb-M"
      },
      "execution_count": null,
      "outputs": []
    },
    {
      "cell_type": "markdown",
      "source": [
        "5. COPYING AN ENTIRE LIST\n",
        "\n",
        "In the code chunk below:\n",
        "- Copy the code for creating the score list from question #1\n",
        "- Print the scores list\n",
        "- Copy the list into another variable named **scores2**\n",
        "- Print the scores2 list\n",
        "- Run your code chunk"
      ],
      "metadata": {
        "id": "t5o0z2pu8lg6"
      }
    },
    {
      "cell_type": "code",
      "source": [],
      "metadata": {
        "id": "M2q6C2VskhM1"
      },
      "execution_count": null,
      "outputs": []
    },
    {
      "cell_type": "markdown",
      "source": [
        "6. COUNTING LIST ITEMS\n",
        "\n",
        "In the code chunk below:\n",
        "- Copy the code for creating the score list from question #1\n",
        "- Print the number of perfect scores\n",
        "- Run your code chunk"
      ],
      "metadata": {
        "id": "FEOEcloK9AAD"
      }
    },
    {
      "cell_type": "code",
      "source": [],
      "metadata": {
        "id": "IWSt4x3W9qju"
      },
      "execution_count": null,
      "outputs": []
    },
    {
      "cell_type": "markdown",
      "source": [
        "7. EXTENDING A LIST\n",
        "\n",
        "In the code chunk below:\n",
        "- Copy the code for creating the score list from question #1\n",
        "- Print the scores before extending the list\n",
        "- Extend the list with the values 9, 8, 7\n",
        "- Print the scores after extending the list\n",
        "- Run your code chunk"
      ],
      "metadata": {
        "id": "DyKeXt0b9rTD"
      }
    },
    {
      "cell_type": "code",
      "source": [],
      "metadata": {
        "id": "6BytDradlUoZ"
      },
      "execution_count": null,
      "outputs": []
    },
    {
      "cell_type": "markdown",
      "source": [
        "8. FINDING THE INDEX OF A VALUE\n",
        "\n",
        "In the code chunk below:\n",
        "- Copy the code for creating the score list from question #1\n",
        "- Print the location of value 90\n",
        "- Run your code chunk"
      ],
      "metadata": {
        "id": "ot751B39-EKQ"
      }
    },
    {
      "cell_type": "code",
      "source": [],
      "metadata": {
        "id": "UL1BXXQJl-np"
      },
      "execution_count": null,
      "outputs": []
    },
    {
      "cell_type": "markdown",
      "source": [
        "9. POPPING-OFF THE LAST VALUE\n",
        "\n",
        "In the code chunk below:\n",
        "- Copy the code for creating the score list from question #1\n",
        "- Print the scores before popping the last value from the list\n",
        "- Pop the last value\n",
        "- Print the scores after popping the last value from the list\n",
        "- Run your code chunk"
      ],
      "metadata": {
        "id": "WKf3CWJY-gnZ"
      }
    },
    {
      "cell_type": "code",
      "source": [],
      "metadata": {
        "id": "YXf-5__xnMx6"
      },
      "execution_count": null,
      "outputs": []
    },
    {
      "cell_type": "markdown",
      "source": [
        "10. REMOVING A VALUE FROM THE LIST\n",
        "\n",
        "In the code chunk below:\n",
        "- Copy the code for creating the score list from question #1\n",
        "- Print the scores before removing a value from the list\n",
        "- Remove the value 60 from the list\n",
        "- Print the scores after removing this value from the  list\n",
        "- Run your code chunk"
      ],
      "metadata": {
        "id": "M08DmZov-3O8"
      }
    },
    {
      "cell_type": "code",
      "source": [],
      "metadata": {
        "id": "eQy6FjGQnmRt"
      },
      "execution_count": null,
      "outputs": []
    },
    {
      "cell_type": "markdown",
      "source": [
        "11. REVERSING A LIST\n",
        "\n",
        "In the code chunk below:\n",
        "- Copy the code for creating the score list from question #1\n",
        "- Print the scores before reversing the list\n",
        "- Reverse the list\n",
        "- Print the scores after reversing the list\n",
        "- Run your code chunk"
      ],
      "metadata": {
        "id": "_E38jN4f_S6q"
      }
    },
    {
      "cell_type": "code",
      "source": [],
      "metadata": {
        "id": "DtW64Cgun2Ja"
      },
      "execution_count": null,
      "outputs": []
    },
    {
      "cell_type": "markdown",
      "source": [
        "12. SORTING A LIST\n",
        "\n",
        "In the code chunk below:\n",
        "- Copy the code for creating the score list from question #1\n",
        "- Print the scores before sorting the list\n",
        "- Sort the list in ascending order\n",
        "- Print the sorted list\n",
        "- Sort the list in descending order\n",
        "- Print the sorted list\n",
        "- Run your code chunk"
      ],
      "metadata": {
        "id": "k_owltvJ_cKO"
      }
    },
    {
      "cell_type": "code",
      "source": [],
      "metadata": {
        "id": "zE4IgAfroBjK"
      },
      "execution_count": null,
      "outputs": []
    },
    {
      "cell_type": "markdown",
      "source": [
        "13. INSERTING AN ITEM BEFORE A LOCATION (INDEX)\n",
        "\n",
        "In the code chunk below:\n",
        "- Copy the code for creating the score list from question #1\n",
        "- Print the scores before inserting an item into the list\n",
        "- Insert at position 3 the value 30\n",
        "- Print the scores after inserting the item into the list\n",
        "- Run your code chunk"
      ],
      "metadata": {
        "id": "WK5ff42D_9Dd"
      }
    },
    {
      "cell_type": "code",
      "source": [],
      "metadata": {
        "id": "i4nY7oCjoY3i"
      },
      "execution_count": null,
      "outputs": []
    },
    {
      "cell_type": "markdown",
      "source": [
        "14. PRINTING A LIST ITEM AT A SPECIFIC LOCATION AND PRINTING A SLICE\n",
        "\n",
        "In the code chunk below:\n",
        "- Copy the code for creating the score list from question #1\n",
        "- Print the item at index 7\n",
        "- Print the slice of items from index 2 through index 4\n",
        "- Run your code chunk"
      ],
      "metadata": {
        "id": "-shJZpvYAWAm"
      }
    },
    {
      "cell_type": "code",
      "source": [],
      "metadata": {
        "id": "K_Uf5MFOBJqd"
      },
      "execution_count": null,
      "outputs": []
    },
    {
      "cell_type": "markdown",
      "source": [
        "15. CREATING A DICTIONARY AND PRINTING KEYS & ITEMS\n",
        "\n",
        "In the code chunk below:\n",
        "- Create a dictionary name **score_dict**, based on the list values from question #1, and label the values 'score1', 'score2', ..., 'score10'\n",
        "- Print all the keys in your dictionary\n",
        "- Print all the items in your dictionary\n",
        "- Run your code chunk"
      ],
      "metadata": {
        "id": "SDltDv-xBKE1"
      }
    },
    {
      "cell_type": "code",
      "source": [],
      "metadata": {
        "id": "N57NdZvFu4gj"
      },
      "execution_count": null,
      "outputs": []
    }
  ]
}