{
  "nbformat": 4,
  "nbformat_minor": 0,
  "metadata": {
    "colab": {
      "provenance": [],
      "include_colab_link": true
    },
    "kernelspec": {
      "name": "python3",
      "display_name": "Python 3"
    },
    "language_info": {
      "name": "python"
    }
  },
  "cells": [
    {
      "cell_type": "markdown",
      "metadata": {
        "id": "view-in-github",
        "colab_type": "text"
      },
      "source": [
        "<a href=\"https://colab.research.google.com/github/KadetKelly715/KadetKelly715/blob/main/McLernan_Dennis_8_9.ipynb\" target=\"_parent\"><img src=\"https://colab.research.google.com/assets/colab-badge.svg\" alt=\"Open In Colab\"/></a>"
      ]
    },
    {
      "cell_type": "markdown",
      "source": [
        "# Exercises 8 & 9: Lists & Dictionaries\n",
        "\n",
        "MGMT 330 - Fundamentals of Business Programming\n",
        "\n",
        "Professor Flor"
      ],
      "metadata": {
        "id": "41GC_rfw38Bi"
      }
    },
    {
      "cell_type": "code",
      "execution_count": null,
      "metadata": {
        "id": "Wf2EUObTf2ad"
      },
      "outputs": [],
      "source": [
        "# Dennis McLernan\n",
        "# MGMT 330-002\n",
        "# 9/29/23"
      ]
    },
    {
      "cell_type": "markdown",
      "source": [
        "1. CREATING A LIST\n",
        "\n",
        "In the code chunk below:\n",
        "\n",
        "- Create a list named **scores**, with the values: *100, 90, 80, 70, 60, 50, 40, 30, 20, 10*\n",
        "- Print out the list\n",
        "- Run your code chunk\n",
        "\n"
      ],
      "metadata": {
        "id": "0LwYXlxt5Dx5"
      }
    },
    {
      "cell_type": "code",
      "source": [
        "scores = [100,90,80,70,60,50,40,30,20,10]\n",
        "print(scores)"
      ],
      "metadata": {
        "id": "2mCRQihHg8SV",
        "colab": {
          "base_uri": "https://localhost:8080/"
        },
        "outputId": "7087019d-8909-4868-d7fd-e721a6861f22"
      },
      "execution_count": 1,
      "outputs": [
        {
          "output_type": "stream",
          "name": "stdout",
          "text": [
            "[100, 90, 80, 70, 60, 50, 40, 30, 20, 10]\n"
          ]
        }
      ]
    },
    {
      "cell_type": "markdown",
      "source": [
        "2. AVERAGING LIST VALUES\n",
        "\n",
        "In the code chunk below:\n",
        "\n",
        "- Copy the code for creating the score list from question #1\n",
        "- Calculate the score average\n",
        "- Print the average\n",
        "- Run your code chunk"
      ],
      "metadata": {
        "id": "6xxzHh5X6XzI"
      }
    },
    {
      "cell_type": "code",
      "source": [
        "scores = [100,90,80,70,60,50,40,30,20,10]\n",
        "average = sum(scores) / len(scores)\n",
        "print(average)"
      ],
      "metadata": {
        "id": "Gv3J7G2jhWlM",
        "colab": {
          "base_uri": "https://localhost:8080/"
        },
        "outputId": "be862c02-6de8-4e56-e99b-602c6b70e656"
      },
      "execution_count": 2,
      "outputs": [
        {
          "output_type": "stream",
          "name": "stdout",
          "text": [
            "55.0\n"
          ]
        }
      ]
    },
    {
      "cell_type": "markdown",
      "source": [
        "3. APPENDING A VALUE\n",
        "\n",
        "In the code chunk below:\n",
        "\n",
        "- Copy the code for creating the score list from question #1\n",
        "- Print the scores before appending\n",
        "- Append a 50 to the end of the list\n",
        "- Print the scores after appending\n",
        "- Run your code chunk"
      ],
      "metadata": {
        "id": "PO6ZoVLK7cZM"
      }
    },
    {
      "cell_type": "code",
      "source": [
        "scores = [100,90,80,70,60,50,40,30,20,10]\n",
        "print(scores)\n",
        "scores.append(50)\n",
        "print(scores)"
      ],
      "metadata": {
        "id": "eQQhu6oCjP1o",
        "colab": {
          "base_uri": "https://localhost:8080/"
        },
        "outputId": "e7ba76fd-8d01-4321-aade-13c643725c87"
      },
      "execution_count": 3,
      "outputs": [
        {
          "output_type": "stream",
          "name": "stdout",
          "text": [
            "[100, 90, 80, 70, 60, 50, 40, 30, 20, 10]\n",
            "[100, 90, 80, 70, 60, 50, 40, 30, 20, 10, 50]\n"
          ]
        }
      ]
    },
    {
      "cell_type": "markdown",
      "source": [
        "4. CLEARING AN ENTIRE LIST\n",
        "\n",
        "In the code chunk below:\n",
        "- Copy the code for creating the score list from question #1\n",
        "- Print the scores before clearing the list\n",
        "- Clear the list\n",
        "- Print the scores after clearing the list\n",
        "- Run your code chunk"
      ],
      "metadata": {
        "id": "iGi6b_yS8GVb"
      }
    },
    {
      "cell_type": "code",
      "source": [
        "scores = [100,90,80,70,60,50,40,30,20,10]\n",
        "print(scores)\n",
        "del scores[:]\n",
        "print(scores)"
      ],
      "metadata": {
        "id": "63EB8aGSkb-M",
        "colab": {
          "base_uri": "https://localhost:8080/"
        },
        "outputId": "ed00719e-4d7c-427a-b14d-9d1d37499d22"
      },
      "execution_count": 4,
      "outputs": [
        {
          "output_type": "stream",
          "name": "stdout",
          "text": [
            "[100, 90, 80, 70, 60, 50, 40, 30, 20, 10]\n",
            "[]\n"
          ]
        }
      ]
    },
    {
      "cell_type": "markdown",
      "source": [
        "5. COPYING AN ENTIRE LIST\n",
        "\n",
        "In the code chunk below:\n",
        "- Copy the code for creating the score list from question #1\n",
        "- Print the scores list\n",
        "- Copy the list into another variable named **scores2**\n",
        "- Print the scores2 list\n",
        "- Run your code chunk"
      ],
      "metadata": {
        "id": "t5o0z2pu8lg6"
      }
    },
    {
      "cell_type": "code",
      "source": [
        "scores = [100,90,80,70,60,50,40,30,20,10]\n",
        "print(scores)\n",
        "scores2 = scores\n",
        "print(scores2)"
      ],
      "metadata": {
        "id": "M2q6C2VskhM1",
        "colab": {
          "base_uri": "https://localhost:8080/"
        },
        "outputId": "5c0a6524-1f1c-4f7f-fd9d-430da66a9781"
      },
      "execution_count": 6,
      "outputs": [
        {
          "output_type": "stream",
          "name": "stdout",
          "text": [
            "[100, 90, 80, 70, 60, 50, 40, 30, 20, 10]\n",
            "[100, 90, 80, 70, 60, 50, 40, 30, 20, 10]\n"
          ]
        }
      ]
    },
    {
      "cell_type": "markdown",
      "source": [
        "6. COUNTING LIST ITEMS\n",
        "\n",
        "In the code chunk below:\n",
        "- Copy the code for creating the score list from question #1\n",
        "- Print the number of perfect scores\n",
        "- Run your code chunk"
      ],
      "metadata": {
        "id": "FEOEcloK9AAD"
      }
    },
    {
      "cell_type": "code",
      "source": [
        "scores = [100,90,80,70,60,50,40,30,20,10]\n",
        "count=0\n",
        "for score in scores:\n",
        "  perfect_score=100\n",
        "  if score == perfect_score:\n",
        "    count = count + 1\n",
        "print(count)\n",
        ""
      ],
      "metadata": {
        "id": "IWSt4x3W9qju",
        "colab": {
          "base_uri": "https://localhost:8080/"
        },
        "outputId": "98e7677b-e29a-415c-bfdd-f0eb5b992d04"
      },
      "execution_count": 8,
      "outputs": [
        {
          "output_type": "stream",
          "name": "stdout",
          "text": [
            "1\n"
          ]
        }
      ]
    },
    {
      "cell_type": "markdown",
      "source": [
        "7. EXTENDING A LIST\n",
        "\n",
        "In the code chunk below:\n",
        "- Copy the code for creating the score list from question #1\n",
        "- Print the scores before extending the list\n",
        "- Extend the list with the values 9, 8, 7\n",
        "- Print the scores after extending the list\n",
        "- Run your code chunk"
      ],
      "metadata": {
        "id": "DyKeXt0b9rTD"
      }
    },
    {
      "cell_type": "code",
      "source": [
        "scores = [100,90,80,70,60,50,40,30,20,10]\n",
        "print(scores)\n",
        "scores2 = [9,8,7]\n",
        "scores.extend(scores2)\n",
        "print(scores)"
      ],
      "metadata": {
        "id": "6BytDradlUoZ",
        "colab": {
          "base_uri": "https://localhost:8080/"
        },
        "outputId": "3eb0b0ce-154d-45f0-b7dd-9e8edd80f493"
      },
      "execution_count": 9,
      "outputs": [
        {
          "output_type": "stream",
          "name": "stdout",
          "text": [
            "[100, 90, 80, 70, 60, 50, 40, 30, 20, 10]\n",
            "[100, 90, 80, 70, 60, 50, 40, 30, 20, 10, 9, 8, 7]\n"
          ]
        }
      ]
    },
    {
      "cell_type": "markdown",
      "source": [
        "8. FINDING THE INDEX OF A VALUE\n",
        "\n",
        "In the code chunk below:\n",
        "- Copy the code for creating the score list from question #1\n",
        "- Print the location of value 90\n",
        "- Run your code chunk"
      ],
      "metadata": {
        "id": "ot751B39-EKQ"
      }
    },
    {
      "cell_type": "code",
      "source": [
        "scores = [100,90,80,70,60,50,40,30,20,10]\n",
        "scores.index(90)"
      ],
      "metadata": {
        "id": "UL1BXXQJl-np",
        "colab": {
          "base_uri": "https://localhost:8080/"
        },
        "outputId": "0638163c-adce-427e-ccb0-43fab63a3473"
      },
      "execution_count": 10,
      "outputs": [
        {
          "output_type": "execute_result",
          "data": {
            "text/plain": [
              "1"
            ]
          },
          "metadata": {},
          "execution_count": 10
        }
      ]
    },
    {
      "cell_type": "markdown",
      "source": [
        "9. POPPING-OFF THE LAST VALUE\n",
        "\n",
        "In the code chunk below:\n",
        "- Copy the code for creating the score list from question #1\n",
        "- Print the scores before popping the last value from the list\n",
        "- Pop the last value\n",
        "- Print the scores after popping the last value from the list\n",
        "- Run your code chunk"
      ],
      "metadata": {
        "id": "WKf3CWJY-gnZ"
      }
    },
    {
      "cell_type": "code",
      "source": [
        "scores = [100,90,80,70,60,50,40,30,20,10]\n",
        "print(scores)\n",
        "scores2 = scores.pop(9)\n",
        "print(scores)"
      ],
      "metadata": {
        "id": "YXf-5__xnMx6",
        "colab": {
          "base_uri": "https://localhost:8080/"
        },
        "outputId": "b6d5201f-c735-41c6-9baf-3f2e3c8d3796"
      },
      "execution_count": 14,
      "outputs": [
        {
          "output_type": "stream",
          "name": "stdout",
          "text": [
            "[100, 90, 80, 70, 60, 50, 40, 30, 20, 10]\n",
            "[100, 90, 80, 70, 60, 50, 40, 30, 20]\n"
          ]
        }
      ]
    },
    {
      "cell_type": "markdown",
      "source": [
        "10. REMOVING A VALUE FROM THE LIST\n",
        "\n",
        "In the code chunk below:\n",
        "- Copy the code for creating the score list from question #1\n",
        "- Print the scores before removing a value from the list\n",
        "- Remove the value 60 from the list\n",
        "- Print the scores after removing this value from the  list\n",
        "- Run your code chunk"
      ],
      "metadata": {
        "id": "M08DmZov-3O8"
      }
    },
    {
      "cell_type": "code",
      "source": [
        "scores = [100,90,80,70,60,50,40,30,20,10]\n",
        "print(scores)\n",
        "scores.remove(60)\n",
        "print(scores)"
      ],
      "metadata": {
        "id": "eQy6FjGQnmRt",
        "colab": {
          "base_uri": "https://localhost:8080/"
        },
        "outputId": "9043f9d5-04b5-4403-de8d-4217c267fba6"
      },
      "execution_count": 16,
      "outputs": [
        {
          "output_type": "stream",
          "name": "stdout",
          "text": [
            "[100, 90, 80, 70, 60, 50, 40, 30, 20, 10]\n",
            "[100, 90, 80, 70, 50, 40, 30, 20, 10]\n"
          ]
        }
      ]
    },
    {
      "cell_type": "markdown",
      "source": [
        "11. REVERSING A LIST\n",
        "\n",
        "In the code chunk below:\n",
        "- Copy the code for creating the score list from question #1\n",
        "- Print the scores before reversing the list\n",
        "- Reverse the list\n",
        "- Print the scores after reversing the list\n",
        "- Run your code chunk"
      ],
      "metadata": {
        "id": "_E38jN4f_S6q"
      }
    },
    {
      "cell_type": "code",
      "source": [
        "scores = [100,90,80,70,60,50,40,30,20,10]\n",
        "print(scores)\n",
        "scores = list(reversed(scores))\n",
        "print(scores)\n",
        "\n",
        "\n",
        "\n",
        "\n",
        "\n"
      ],
      "metadata": {
        "id": "DtW64Cgun2Ja",
        "colab": {
          "base_uri": "https://localhost:8080/"
        },
        "outputId": "d30582fc-01d3-4f9c-b41e-1680afb31a13"
      },
      "execution_count": 32,
      "outputs": [
        {
          "output_type": "stream",
          "name": "stdout",
          "text": [
            "[100, 90, 80, 70, 60, 50, 40, 30, 20, 10]\n",
            "[10, 20, 30, 40, 50, 60, 70, 80, 90, 100]\n"
          ]
        }
      ]
    },
    {
      "cell_type": "markdown",
      "source": [
        "12. SORTING A LIST\n",
        "\n",
        "In the code chunk below:\n",
        "- Copy the code for creating the score list from question #1\n",
        "- Print the scores before sorting the list\n",
        "- Sort the list in ascending order\n",
        "- Print the sorted list\n",
        "- Sort the list in descending order\n",
        "- Print the sorted list\n",
        "- Run your code chunk"
      ],
      "metadata": {
        "id": "k_owltvJ_cKO"
      }
    },
    {
      "cell_type": "code",
      "source": [
        "scores = [100,90,80,70,60,50,40,30,20,10]\n",
        "print(scores)\n",
        "scores.sort()\n",
        "print(scores)\n",
        "scores.sort(reverse = True)\n",
        "print(scores)"
      ],
      "metadata": {
        "id": "zE4IgAfroBjK",
        "colab": {
          "base_uri": "https://localhost:8080/"
        },
        "outputId": "f05b5b23-477d-491f-e39f-f7ff1a3c6706"
      },
      "execution_count": 36,
      "outputs": [
        {
          "output_type": "stream",
          "name": "stdout",
          "text": [
            "[100, 90, 80, 70, 60, 50, 40, 30, 20, 10]\n",
            "[10, 20, 30, 40, 50, 60, 70, 80, 90, 100]\n",
            "[100, 90, 80, 70, 60, 50, 40, 30, 20, 10]\n"
          ]
        }
      ]
    },
    {
      "cell_type": "markdown",
      "source": [
        "13. INSERTING AN ITEM BEFORE A LOCATION (INDEX)\n",
        "\n",
        "In the code chunk below:\n",
        "- Copy the code for creating the score list from question #1\n",
        "- Print the scores before inserting an item into the list\n",
        "- Insert at position 3 the value 30\n",
        "- Print the scores after inserting the item into the list\n",
        "- Run your code chunk"
      ],
      "metadata": {
        "id": "WK5ff42D_9Dd"
      }
    },
    {
      "cell_type": "code",
      "source": [
        "scores = [100,90,80,70,60,50,40,30,20,10]\n",
        "print(scores)\n",
        "scores2 = scores[3:]\n",
        "del scores[3:]\n",
        "scores.append(30)\n",
        "scores.extend(scores2)\n",
        "print(scores)"
      ],
      "metadata": {
        "id": "i4nY7oCjoY3i",
        "colab": {
          "base_uri": "https://localhost:8080/"
        },
        "outputId": "50a6c53e-aeae-4c0c-9998-e8cd85469fbb"
      },
      "execution_count": 43,
      "outputs": [
        {
          "output_type": "stream",
          "name": "stdout",
          "text": [
            "[100, 90, 80, 70, 60, 50, 40, 30, 20, 10]\n",
            "[100, 90, 80, 30, 70, 60, 50, 40, 30, 20, 10]\n"
          ]
        }
      ]
    },
    {
      "cell_type": "markdown",
      "source": [
        "14. PRINTING A LIST ITEM AT A SPECIFIC LOCATION AND PRINTING A SLICE\n",
        "\n",
        "In the code chunk below:\n",
        "- Copy the code for creating the score list from question #1\n",
        "- Print the item at index 7\n",
        "- Print the slice of items from index 2 through index 4\n",
        "- Run your code chunk"
      ],
      "metadata": {
        "id": "-shJZpvYAWAm"
      }
    },
    {
      "cell_type": "code",
      "source": [
        "scores = [100,90,80,70,60,50,40,30,20,10]\n",
        "print(scores[7])\n",
        "print(scores[2:4])"
      ],
      "metadata": {
        "id": "K_Uf5MFOBJqd",
        "colab": {
          "base_uri": "https://localhost:8080/"
        },
        "outputId": "47088f91-5ce9-4a1c-a37c-357b237c1cdb"
      },
      "execution_count": 45,
      "outputs": [
        {
          "output_type": "stream",
          "name": "stdout",
          "text": [
            "30\n",
            "[80, 70]\n"
          ]
        }
      ]
    },
    {
      "cell_type": "markdown",
      "source": [
        "15. CREATING A DICTIONARY AND PRINTING KEYS & ITEMS\n",
        "\n",
        "In the code chunk below:\n",
        "- Create a dictionary name **score_dict**, based on the list values from question #1, and label the values 'score1', 'score2', ..., 'score10'\n",
        "- Print all the keys in your dictionary\n",
        "- Print all the items in your dictionary\n",
        "- Run your code chunk"
      ],
      "metadata": {
        "id": "SDltDv-xBKE1"
      }
    },
    {
      "cell_type": "code",
      "source": [
        "score_dict = dict()\n",
        "score_dict['score1'] = 100\n",
        "score_dict['score2'] = 90\n",
        "score_dict['score3'] = 80\n",
        "score_dict['score4'] = 70\n",
        "score_dict['score5'] = 60\n",
        "score_dict['score6'] = 50\n",
        "score_dict['score7'] = 40\n",
        "score_dict['score8'] = 30\n",
        "score_dict['score9'] = 20\n",
        "score_dict['score10'] = 10\n",
        "print(score_dict['score1'])\n",
        "print(score_dict['score2'])\n",
        "print(score_dict['score3'])\n",
        "print(score_dict['score4'])\n",
        "print(score_dict['score5'])\n",
        "print(score_dict['score6'])\n",
        "print(score_dict['score7'])\n",
        "print(score_dict['score8'])\n",
        "print(score_dict['score9'])\n",
        "print(score_dict['score10'])\n",
        "print(score_dict)\n"
      ],
      "metadata": {
        "id": "N57NdZvFu4gj",
        "colab": {
          "base_uri": "https://localhost:8080/"
        },
        "outputId": "772a9fa3-d357-45f8-a077-cbf0900d9e1e"
      },
      "execution_count": 51,
      "outputs": [
        {
          "output_type": "stream",
          "name": "stdout",
          "text": [
            "100\n",
            "90\n",
            "80\n",
            "70\n",
            "60\n",
            "50\n",
            "40\n",
            "30\n",
            "20\n",
            "10\n",
            "{'score1': 100, 'score2': 90, 'score3': 80, 'score4': 70, 'score5': 60, 'score6': 50, 'score7': 40, 'score8': 30, 'score9': 20, 'score10': 10}\n"
          ]
        }
      ]
    }
  ]
}