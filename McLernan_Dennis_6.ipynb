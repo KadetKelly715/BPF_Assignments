{
  "nbformat": 4,
  "nbformat_minor": 0,
  "metadata": {
    "colab": {
      "provenance": [],
      "include_colab_link": true
    },
    "kernelspec": {
      "name": "python3",
      "display_name": "Python 3"
    },
    "language_info": {
      "name": "python"
    }
  },
  "cells": [
    {
      "cell_type": "markdown",
      "metadata": {
        "id": "view-in-github",
        "colab_type": "text"
      },
      "source": [
        "<a href=\"https://colab.research.google.com/github/KadetKelly715/KadetKelly715/blob/main/McLernan_Dennis_6.ipynb\" target=\"_parent\"><img src=\"https://colab.research.google.com/assets/colab-badge.svg\" alt=\"Open In Colab\"/></a>"
      ]
    },
    {
      "cell_type": "code",
      "execution_count": null,
      "metadata": {
        "id": "D6UFv0xKWBOH"
      },
      "outputs": [],
      "source": [
        "#\n",
        "# Infinite Loop\n",
        "#\n",
        "base = 0\n",
        "while base == 0:\n",
        "  print(base)\n",
        "# A. This is an infinite loop because we have not set the iteration variable in a way that it will eventually become False.\n",
        "#     Since the variable \"base\" will always be equal to 0, the condition will always be true\n",
        "# B. To keep the loop from going on infinitely, the iteration variable needs to be updated so the loop condition eventually\n",
        "#     becomes false"
      ]
    },
    {
      "cell_type": "code",
      "source": [
        "#\n",
        "# 10-20 Loop:\n",
        "#\n",
        "count = 10\n",
        "while count <= 20:\n",
        "  print(count)\n",
        "  count = count + 1\n"
      ],
      "metadata": {
        "colab": {
          "base_uri": "https://localhost:8080/"
        },
        "id": "_Uc7Fycqcq4Q",
        "outputId": "953e7689-3419-494f-eced-7c064e8cbf7e"
      },
      "execution_count": null,
      "outputs": [
        {
          "output_type": "stream",
          "name": "stdout",
          "text": [
            "10\n",
            "11\n",
            "12\n",
            "13\n",
            "14\n",
            "15\n",
            "16\n",
            "17\n",
            "18\n",
            "19\n",
            "20\n"
          ]
        }
      ]
    },
    {
      "cell_type": "code",
      "source": [
        "#\n",
        "# 0 - 10 Loop:\n",
        "#\n",
        "for number in range(11):\n",
        "  print(number)"
      ],
      "metadata": {
        "colab": {
          "base_uri": "https://localhost:8080/"
        },
        "id": "tWbYlCeGdw9y",
        "outputId": "e89d1b1d-9d1a-457a-9a8a-cdd9948455ec"
      },
      "execution_count": null,
      "outputs": [
        {
          "output_type": "stream",
          "name": "stdout",
          "text": [
            "0\n",
            "1\n",
            "2\n",
            "3\n",
            "4\n",
            "5\n",
            "6\n",
            "7\n",
            "8\n",
            "9\n",
            "10\n"
          ]
        }
      ]
    }
  ]
}