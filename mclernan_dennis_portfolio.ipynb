{
  "nbformat": 4,
  "nbformat_minor": 0,
  "metadata": {
    "colab": {
      "provenance": [],
      "authorship_tag": "ABX9TyO8SNG2qDpQg3vsy+b04gTg",
      "include_colab_link": true
    },
    "kernelspec": {
      "name": "python3",
      "display_name": "Python 3"
    },
    "language_info": {
      "name": "python"
    }
  },
  "cells": [
    {
      "cell_type": "markdown",
      "metadata": {
        "id": "view-in-github",
        "colab_type": "text"
      },
      "source": [
        "<a href=\"https://colab.research.google.com/github/KadetKelly715/KadetKelly715/blob/main/mclernan_dennis_portfolio.ipynb\" target=\"_parent\"><img src=\"https://colab.research.google.com/assets/colab-badge.svg\" alt=\"Open In Colab\"/></a>"
      ]
    },
    {
      "cell_type": "markdown",
      "source": [
        "I am currently a Business Administration undergraduate student at UNM with a hope to enter into a Master of Science in Business Analytics. With that in mind, I wanted to create a portfolio that combines the topics covered in MGMT330 and the tasks I could see in a future career as a business analyst.\n",
        "\n",
        "**Portfolio Summary:**\n",
        "I am a business analyst at TechCo, a technology sales company. My manager provides you with a sales data file that you need to analyze and visualize to draw valuable business insights."
      ],
      "metadata": {
        "id": "Y1cn3xcphAwb"
      }
    },
    {
      "cell_type": "markdown",
      "source": [
        "**Exercise 1: Print Statements** |\n",
        "In programming, a print statement is used to display information to the user.\n",
        "They're essential for basic output, debugging, and giving feedback to the user, ensuring the code behaves as expected."
      ],
      "metadata": {
        "id": "15h5LB-CiWIz"
      }
    },
    {
      "cell_type": "code",
      "source": [
        "print(\"Welcome to the Business Sales Analysis System!\")\n",
        "print(\"Please follow the instructions to input and analyze your sales data.\")"
      ],
      "metadata": {
        "colab": {
          "base_uri": "https://localhost:8080/"
        },
        "id": "GAEK7291i1Fu",
        "outputId": "a57f71fc-5cee-4951-8d12-e07b3087d077"
      },
      "execution_count": null,
      "outputs": [
        {
          "output_type": "stream",
          "name": "stdout",
          "text": [
            "Welcome to the Business Sales Analysis System!\n",
            "Please follow the instructions to input and analyze your sales data.\n"
          ]
        }
      ]
    },
    {
      "cell_type": "markdown",
      "source": [
        "**Exercise 2: Variables, Assignment Statements, Operators** | Variables hold data values. Assignment statements set or update the values of variables. Operators perform operations on variables (like addition, subtraction). They are the building blocks of programming, allowing data storage, manipulation, and operations to produce meaningful results."
      ],
      "metadata": {
        "id": "tj9-cBpKiaIz"
      }
    },
    {
      "cell_type": "code",
      "source": [
        "annual_revenue = 30000\n",
        "expense = 10000\n",
        "profit = annual_revenue - expense\n",
        "print(f\"Current annual profit: ${profit}\")"
      ],
      "metadata": {
        "colab": {
          "base_uri": "https://localhost:8080/"
        },
        "id": "UpzJKgUQi18Y",
        "outputId": "3eb8fe03-7fcc-4a57-e2b4-5ad65a0e43e3"
      },
      "execution_count": 29,
      "outputs": [
        {
          "output_type": "stream",
          "name": "stdout",
          "text": [
            "Current annual profit: $20000\n"
          ]
        }
      ]
    },
    {
      "cell_type": "markdown",
      "source": [
        "**Exercise 3: Input Statements** | Input statements collect data from users or external sources. They allow interactive programs and can be used to gather necessary information to determine program flow or outcomes."
      ],
      "metadata": {
        "id": "ikddipeNiajF"
      }
    },
    {
      "cell_type": "code",
      "source": [
        "product_name = input(\"Enter the product name: \")\n",
        "product_sales = float(input(f\"Enter the sales for {product_name}: $\"))"
      ],
      "metadata": {
        "colab": {
          "base_uri": "https://localhost:8080/"
        },
        "id": "-bT33F5oi2mD",
        "outputId": "858e1753-d299-4f44-c4f9-28f5c3211aa0"
      },
      "execution_count": 31,
      "outputs": [
        {
          "name": "stdout",
          "output_type": "stream",
          "text": [
            "Enter the product name: Laptop\n",
            "Enter the sales for Laptop: $9000\n"
          ]
        }
      ]
    },
    {
      "cell_type": "markdown",
      "source": [
        "**Exercise 4: Conditional Statements** | Conditional statements (like if, elif, else) allow programs to execute specific blocks of code based on certain conditions. They introduce decision-making into programs, enabling dynamic behavior based on varying situations."
      ],
      "metadata": {
        "id": "TFOxWlDria1U"
      }
    },
    {
      "cell_type": "code",
      "source": [
        "if product_sales > 10000:\n",
        "    print(f\"{product_name} has excellent sales!\")\n",
        "elif product_sales > 5000:\n",
        "    print(f\"{product_name} has good sales!\")\n",
        "else:\n",
        "    print(f\"{product_name} has low sales. Consider revising its marketing strategy.\")\n"
      ],
      "metadata": {
        "colab": {
          "base_uri": "https://localhost:8080/"
        },
        "id": "SjL-Gry6i3ES",
        "outputId": "fcd8270b-ab85-4814-f9c8-1c6025ae598b"
      },
      "execution_count": 32,
      "outputs": [
        {
          "output_type": "stream",
          "name": "stdout",
          "text": [
            "Laptop has good sales!\n"
          ]
        }
      ]
    },
    {
      "cell_type": "markdown",
      "source": [
        "**Exercise 5: Function Assignments and Definite Loops** | Functions are reusable blocks of code. Definite loops (like for loops) execute code a set number of times. Functions promote modular code and reusability, reducing redundancy. Definite loops simplify repetitive tasks, making code more efficient."
      ],
      "metadata": {
        "id": "Y4MY1zEOibH0"
      }
    },
    {
      "cell_type": "code",
      "source": [
        "def calculate_total_sales(sales_list):\n",
        "    total = 0\n",
        "    for sale in sales_list:\n",
        "        total += sale\n",
        "    return total\n",
        "\n",
        "sales_data = [1200, 1500, 1800, 2200, 2500]\n",
        "print(f\"Total sales: ${calculate_total_sales(sales_data)}\")"
      ],
      "metadata": {
        "colab": {
          "base_uri": "https://localhost:8080/"
        },
        "id": "NaBUiTpBi3iO",
        "outputId": "d2869da6-4d26-44d3-ed06-ffb646657639"
      },
      "execution_count": null,
      "outputs": [
        {
          "output_type": "stream",
          "name": "stdout",
          "text": [
            "Total sales: $9200\n"
          ]
        }
      ]
    },
    {
      "cell_type": "markdown",
      "source": [
        "**Exercise 6: Infinite Loops** | Infinite loops are loops that don't have a clear stopping point and can run indefinitely until externally stopped. While they can be problematic if unintentional, they're useful when a program needs to run continuously, like in server applications or user interfaces waiting for input."
      ],
      "metadata": {
        "id": "Y9Bfrfo0ibgj"
      }
    },
    {
      "cell_type": "code",
      "source": [
        "while True:\n",
        "    user_choice = input(\"Do you want to input another product's sales data? (yes/no) \")\n",
        "    if user_choice.lower() == 'no':\n",
        "        break"
      ],
      "metadata": {
        "colab": {
          "base_uri": "https://localhost:8080/"
        },
        "id": "IV8KNiLpi4B-",
        "outputId": "4ccc496c-61e2-4aa9-ff58-a1e6a1ebdc70"
      },
      "execution_count": null,
      "outputs": [
        {
          "name": "stdout",
          "output_type": "stream",
          "text": [
            "Do you want to input another product's sales data? (yes/no) yes\n",
            "Do you want to input another product's sales data? (yes/no) no\n"
          ]
        }
      ]
    },
    {
      "cell_type": "markdown",
      "source": [
        "**Exercise 7: Reading a File** | This refers to accessing and retrieving data from a file stored on the system. It's essential for data processing, configuration management, and log analysis, as many applications rely on external data sources."
      ],
      "metadata": {
        "id": "Wu-HCQ39ib-O"
      }
    },
    {
      "cell_type": "code",
      "source": [
        "with open('sales_data.txt', 'r') as file:\n",
        "    lines = file.readlines()\n",
        "    for line in lines:\n",
        "        print(line.strip())\n"
      ],
      "metadata": {
        "colab": {
          "base_uri": "https://localhost:8080/"
        },
        "id": "HxJ9x9cii4dX",
        "outputId": "25b38936-7627-49ec-bff8-dd1355f032c1"
      },
      "execution_count": null,
      "outputs": [
        {
          "output_type": "stream",
          "name": "stdout",
          "text": [
            "Product, Sales\n",
            "Laptop, 12000\n",
            "Phone, 8000\n",
            "Tablet, 6000\n",
            "Monitor, 4000\n",
            "Keyboard, 1500\n",
            "Mouse, 1000\n"
          ]
        }
      ]
    },
    {
      "cell_type": "markdown",
      "source": [
        "**Exercise 8: Lists and Dictionaries** | Lists are ordered sequences of items, and dictionaries are unordered collections of key-value pairs. They structure data, making it easier to store, access, and manipulate. Diverse applications range from data analysis to configuration storage."
      ],
      "metadata": {
        "id": "XT5R0nKriqxO"
      }
    },
    {
      "cell_type": "code",
      "source": [
        "products = [{\"name\": \"Laptop\", \"sales\": 8000},\n",
        "            {\"name\": \"Phone\", \"sales\": 12000},\n",
        "            {\"name\": \"Tablet\", \"sales\": 6000}]\n",
        "print(products)\n"
      ],
      "metadata": {
        "id": "OSrR7Q76i45d",
        "colab": {
          "base_uri": "https://localhost:8080/"
        },
        "outputId": "4b82b4f7-0a14-4ae9-f2c7-458d3c35e47a"
      },
      "execution_count": 33,
      "outputs": [
        {
          "output_type": "stream",
          "name": "stdout",
          "text": [
            "[{'name': 'Laptop', 'sales': 8000}, {'name': 'Phone', 'sales': 12000}, {'name': 'Tablet', 'sales': 6000}]\n"
          ]
        }
      ]
    },
    {
      "cell_type": "markdown",
      "source": [
        "**Exercise 9: Dictionaries and Tuples** | While dictionaries are as described above, tuples are ordered, immutable sequences of items. Tuples ensure data integrity (since they can't be modified). Both data structures are useful for organizing and representing complex data relationships."
      ],
      "metadata": {
        "id": "KKtfb_7NirHn"
      }
    },
    {
      "cell_type": "code",
      "source": [
        "sorted_products = sorted(products, key=lambda x: x[\"sales\"], reverse=True)\n",
        "print(\"Products sorted by sales:\")\n",
        "for product in sorted_products:\n",
        "    print(product[\"name\"], product[\"sales\"])\n"
      ],
      "metadata": {
        "colab": {
          "base_uri": "https://localhost:8080/"
        },
        "id": "mU2r6ZE9i5UU",
        "outputId": "19564b65-3878-4819-89ef-052004325a7f"
      },
      "execution_count": null,
      "outputs": [
        {
          "output_type": "stream",
          "name": "stdout",
          "text": [
            "Products sorted by sales:\n",
            "Phone 12000\n",
            "Laptop 8000\n",
            "Tablet 6000\n"
          ]
        }
      ]
    },
    {
      "cell_type": "markdown",
      "source": [
        "**Exercise 10: Data Frames** | Data frames, primarily associated with the pandas library in Python, are 2D labeled data structures, similar to tables in databases or Excel sheets. They simplify complex data manipulations, filtering, and analyses, making them vital for data science and business analytics."
      ],
      "metadata": {
        "id": "6ghgRxbiirwQ"
      }
    },
    {
      "cell_type": "code",
      "source": [
        "import pandas as pd\n",
        "\n",
        "df = pd.DataFrame(products)\n",
        "print(df)\n"
      ],
      "metadata": {
        "colab": {
          "base_uri": "https://localhost:8080/"
        },
        "id": "S88HGcSSi5sz",
        "outputId": "a74e510a-65a1-44ac-9982-d411d681c59a"
      },
      "execution_count": null,
      "outputs": [
        {
          "output_type": "stream",
          "name": "stdout",
          "text": [
            "     name  sales\n",
            "0  Laptop   8000\n",
            "1   Phone  12000\n",
            "2  Tablet   6000\n"
          ]
        }
      ]
    },
    {
      "cell_type": "markdown",
      "source": [
        "**Exercise 11: Regular Expressions** | Regular expressions (or regex) are sequences of characters defining a search pattern. They're indispensable for text processing tasks, including data validation, extraction, and transformation."
      ],
      "metadata": {
        "id": "CqEh7VKuisCf"
      }
    },
    {
      "cell_type": "code",
      "source": [
        "import re\n",
        "\n",
        "pattern = r'^L'\n",
        "for product in products:\n",
        "    if re.match(pattern, product[\"name\"]):\n",
        "        print(product[\"name\"])"
      ],
      "metadata": {
        "colab": {
          "base_uri": "https://localhost:8080/"
        },
        "id": "3okDrgrZi6H4",
        "outputId": "8ad9c4b6-9c46-49b2-e5ba-b114d34ff570"
      },
      "execution_count": null,
      "outputs": [
        {
          "output_type": "stream",
          "name": "stdout",
          "text": [
            "Laptop\n"
          ]
        }
      ]
    },
    {
      "cell_type": "markdown",
      "source": [
        "**Exercise 12: Object-Oriented Programming** | OOP is a programming paradigm based on \"objects\", which can contain data and code to manipulate that data. It promotes modularity, code reusability, and scalability, making software design more intuitive and organized."
      ],
      "metadata": {
        "id": "rJzP7GDQisUK"
      }
    },
    {
      "cell_type": "code",
      "source": [
        "class Product:\n",
        "    def __init__(self, name, sales):\n",
        "        self.name = name\n",
        "        self.sales = sales\n",
        "\n",
        "    def display(self):\n",
        "        print(f\"Product: {self.name}, Sales: {self.sales}\")\n",
        "\n",
        "product_instance = Product(\"Laptop\", 12000)\n",
        "product_instance.display()"
      ],
      "metadata": {
        "colab": {
          "base_uri": "https://localhost:8080/"
        },
        "id": "7nyBN4SLi6c8",
        "outputId": "8cee7174-2a07-4aad-c994-8937c4d72041"
      },
      "execution_count": null,
      "outputs": [
        {
          "output_type": "stream",
          "name": "stdout",
          "text": [
            "Product: Laptop, Sales: 12000\n"
          ]
        }
      ]
    },
    {
      "cell_type": "markdown",
      "source": [
        "**Exercise 13: Data Visualization** | Data visualization involves representing data in graphical forms like charts, graphs, or plots. It makes complex data understandable, actionable, and user-friendly. Visual data often conveys patterns or trends that might be missed in raw data."
      ],
      "metadata": {
        "id": "KaTIYSUPismI"
      }
    },
    {
      "cell_type": "code",
      "execution_count": null,
      "metadata": {
        "colab": {
          "base_uri": "https://localhost:8080/",
          "height": 472
        },
        "id": "d4oNuhvHe2qy",
        "outputId": "43a1f80f-31f3-41a0-e54a-77d25ed53201"
      },
      "outputs": [
        {
          "output_type": "display_data",
          "data": {
            "text/plain": [
              "<Figure size 640x480 with 1 Axes>"
            ],
            "image/png": "[encoded data removed]"
          },
          "metadata": {}
        }
      ],
      "source": [
        "import matplotlib.pyplot as plt\n",
        "\n",
        "product_names = [product[\"name\"] for product in products]\n",
        "sales_values = [product[\"sales\"] for product in products]\n",
        "\n",
        "plt.bar(product_names, sales_values)\n",
        "plt.title('Sales per Product')\n",
        "plt.xlabel('Product')\n",
        "plt.ylabel('Sales ($)')\n",
        "plt.show()"
      ]
    }
  ]
}