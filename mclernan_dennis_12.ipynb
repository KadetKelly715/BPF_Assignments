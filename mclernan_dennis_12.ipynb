{
  "nbformat": 4,
  "nbformat_minor": 0,
  "metadata": {
    "colab": {
      "provenance": [],
      "include_colab_link": true
    },
    "kernelspec": {
      "name": "python3",
      "display_name": "Python 3"
    },
    "language_info": {
      "name": "python"
    }
  },
  "cells": [
    {
      "cell_type": "markdown",
      "metadata": {
        "id": "view-in-github",
        "colab_type": "text"
      },
      "source": [
        "<a href=\"https://colab.research.google.com/github/KadetKelly715/KadetKelly715/blob/main/mclernan_dennis_12.ipynb\" target=\"_parent\"><img src=\"https://colab.research.google.com/assets/colab-badge.svg\" alt=\"Open In Colab\"/></a>"
      ]
    },
    {
      "cell_type": "code",
      "source": [
        "# [MCLERNAN, DENNIS]\n",
        "# MGMT-330-002\n",
        "# October 9, 2023"
      ],
      "metadata": {
        "id": "4ociBlNlSXXr"
      },
      "execution_count": null,
      "outputs": []
    },
    {
      "cell_type": "markdown",
      "source": [
        "1. In the code chunk below, implement a sales calculator function\n",
        "\n",
        "*   Name your function **sales_calculator**\n",
        "*   Take 2 parameters: **price** and **tax_rate**\n",
        "*   Calculate total = price + price * tax_rate\n",
        "*   Return total\n"
      ],
      "metadata": {
        "id": "SrbnwqpbSjPv"
      }
    },
    {
      "cell_type": "code",
      "execution_count": 2,
      "metadata": {
        "id": "iMtIsB-C10fW"
      },
      "outputs": [],
      "source": [
        "def sales_calculator(price, tax_rate):\n",
        "  tax = price * tax_rate\n",
        "  total = price + tax\n",
        "\n",
        "  return total"
      ]
    },
    {
      "cell_type": "markdown",
      "source": [
        "2. In the code chunk below, test your sales calculator with a price of $1000 and a tax_rate of 10%"
      ],
      "metadata": {
        "id": "pIsm2X7eSvqF"
      }
    },
    {
      "cell_type": "code",
      "source": [
        "price = float(input('What is the price? $'))\n",
        "tax_rate = float(input('What is the tax rate (as a percent)? '))/100\n",
        "\n",
        "total = sales_calculator(price, tax_rate)\n",
        "\n",
        "print(f'Your total is {total}')"
      ],
      "metadata": {
        "id": "HWOXkYsEStQA",
        "colab": {
          "base_uri": "https://localhost:8080/"
        },
        "outputId": "d8db7dc9-e74e-4196-b0ac-4ee049c12924"
      },
      "execution_count": 109,
      "outputs": [
        {
          "output_type": "stream",
          "name": "stdout",
          "text": [
            "What is the price? $1000\n",
            "What is the tax rate (as a percent)? 10\n",
            "Your total is 1100.0\n"
          ]
        }
      ]
    },
    {
      "cell_type": "markdown",
      "source": [
        "3. In the code chunk below, implement a mark up / mark down function\n",
        "\n",
        "\n",
        "*   Name your function **mark_up_down**\n",
        "*   Take 2 parameters: **original_price** and **new_price**\n",
        "*   Calculate discount = (new_price - original_price) / original_price\n",
        "*   return discournt\n",
        "\n",
        "\n",
        "\n",
        "\n"
      ],
      "metadata": {
        "id": "9UVblNU_Sy-q"
      }
    },
    {
      "cell_type": "code",
      "source": [
        "def mark_up_down(original_price, new_price):\n",
        "  difference = (new_price - original_price)\n",
        "  discount = (difference / original_price)\n",
        "\n",
        "  return(discount)\n"
      ],
      "metadata": {
        "id": "b-NqKbi43NP8"
      },
      "execution_count": 93,
      "outputs": []
    },
    {
      "cell_type": "markdown",
      "source": [
        "4. In the code chunk below, test your mark up / mark down function with a new price of 900 and and an original price of 1000"
      ],
      "metadata": {
        "id": "S_YsBGF7UcTO"
      }
    },
    {
      "cell_type": "code",
      "source": [
        "original_price = float(input('What is the original price? $'))\n",
        "new_price = float(input('What is the new price? $'))\n",
        "\n",
        "discount = mark_up_down(original_price, new_price)\n",
        "if discount > 0:\n",
        "    up_or_down = 'mark up'\n",
        "    discount = discount * 100\n",
        "    discount = str(round(discount,2)) + ('%')\n",
        "else:\n",
        "    up_or_down = 'mark down'\n",
        "    discount = discount * 100\n",
        "    discount = str(round(discount,2))\n",
        "    discount = discount.strip('-') + ('%')\n",
        "\n",
        "print(f'This is a {discount} {up_or_down}.')"
      ],
      "metadata": {
        "id": "JX0r5cGfUa3O",
        "colab": {
          "base_uri": "https://localhost:8080/"
        },
        "outputId": "2ae62414-6dcb-4b32-b149-abb56e7a3538"
      },
      "execution_count": 100,
      "outputs": [
        {
          "output_type": "stream",
          "name": "stdout",
          "text": [
            "What is the original price? $1000\n",
            "What is the new price? $900\n",
            "This is a 10.0% mark down.\n"
          ]
        }
      ]
    },
    {
      "cell_type": "markdown",
      "source": [
        "5. In the code chunk below, implement a price_without_tax function\n",
        "\n",
        "\n",
        "*   Name your function **price_without_tax**\n",
        "*   Take two parameters: **price_with_tax**, and **tax_rate**\n",
        "*   Calculate price_without_tax = price_with_tax / (1 + tax_rate)\n",
        "*   Return price_without_tax\n",
        "\n"
      ],
      "metadata": {
        "id": "VkSnGDrhV5xl"
      }
    },
    {
      "cell_type": "code",
      "source": [
        "def price_without_tax(price_with_tax, tax_rate):\n",
        "  price_without_tax = price_with_tax / (1 + tax_rate)\n",
        "\n",
        "  return(price_without_tax)"
      ],
      "metadata": {
        "id": "khXgGMX-6tkU"
      },
      "execution_count": 114,
      "outputs": []
    },
    {
      "cell_type": "markdown",
      "source": [
        "6. In the code chunk below, test your price_without_tax function with 1000 as the price with tax and 10% as the tax rate"
      ],
      "metadata": {
        "id": "SNBoRrsIWy83"
      }
    },
    {
      "cell_type": "code",
      "source": [
        "price_with_tax = float(input('What is the price?'))\n",
        "tax_rate = float(input('What is the tax rate? (As a percent)')) / 100\n",
        "\n",
        "new_price = round(price_without_tax(price_with_tax, tax_rate), 2)\n",
        "print(f'The price without tax is ${new_price}')"
      ],
      "metadata": {
        "id": "SqfAh-RLXMai",
        "colab": {
          "base_uri": "https://localhost:8080/"
        },
        "outputId": "fd14972b-e6d1-4799-ac48-08ce093cfb96"
      },
      "execution_count": 44,
      "outputs": [
        {
          "output_type": "stream",
          "name": "stdout",
          "text": [
            "What is the price?1000\n",
            "What is the tax rate? (As a percent)10\n",
            "The price without tax is $909.09\n"
          ]
        }
      ]
    },
    {
      "cell_type": "markdown",
      "source": [
        "7. In the code chunk below, implement an ask for discount function\n",
        "\n",
        "\n",
        "*   Name your function **ask_discount**\n",
        "*   Take three parameters: **max_price**, **tax_rate**, and **sales_price**\n",
        "*   Calculate asking_price = price_without_tax(max_price, tax_rate)\n",
        "*   Calculate the discount = mark_up_down(sales_price, asking_price)\n",
        "*   Return discount\n",
        "\n"
      ],
      "metadata": {
        "id": "762N7caSXiBp"
      }
    },
    {
      "cell_type": "code",
      "source": [
        "def ask_discount(max_price, tax_rate, sales_price):\n",
        "  asking_price = price_without_tax(max_price, tax_rate)\n",
        "  asking_discount = mark_up_down(sales_price, asking_price)\n",
        "\n",
        "  return(asking_discount)"
      ],
      "metadata": {
        "id": "dRScdT2sAZGs"
      },
      "execution_count": 115,
      "outputs": []
    },
    {
      "cell_type": "markdown",
      "source": [
        "8. In the code chunk below, test your ask_discount function with: a maximum price you are willing to pay of 1000, a tax rate of 10%, and a sales price of 2000"
      ],
      "metadata": {
        "id": "dqvj_S-dYFN8"
      }
    },
    {
      "cell_type": "code",
      "source": [
        "max_price = float(input('What is the maximum price you\\'re willing to spend? $'))\n",
        "tax_rate = float(input('What is the tax rate? (In Percentage?)' )) / 100\n",
        "sales_price = float(input('What is the sales price of the item? $'))\n",
        "\n",
        "target_discount = ask_discount(max_price, tax_rate, sales_price)\n",
        "tax_rate = tax_rate * 100\n",
        "target_discount = round(abs(target_discount) * 100, 2)\n",
        "print(f'To not hit your spending cap of ${max_price}, with a tax rate of {tax_rate}%, you must negotiate a discount at or above {target_discount}%')\n"
      ],
      "metadata": {
        "id": "3i8KMjvpYKgp",
        "colab": {
          "base_uri": "https://localhost:8080/"
        },
        "outputId": "3eef6861-ff52-45e0-ad12-7116311dfb09"
      },
      "execution_count": 113,
      "outputs": [
        {
          "output_type": "stream",
          "name": "stdout",
          "text": [
            "What is the maximum price you're willing to spend? $1000\n",
            "What is the tax rate? (In Percentage?)10\n",
            "What is the sales price of the item? $2000\n",
            "To not hit your spending cap of $1000.0, with a tax rate of 10.0%, you must negotiate a discount at or above 54.55%\n"
          ]
        }
      ]
    },
    {
      "cell_type": "markdown",
      "source": [
        "9. In the code chunk below, create a class named Haggler that includes all of the functions above\n",
        "\n",
        "\n",
        "*   Don't forget to add **self** as the first parameter in all the functions\n",
        "\n"
      ],
      "metadata": {
        "id": "cfEGOBJ_Yzzc"
      }
    },
    {
      "cell_type": "code",
      "source": [
        "class Haggler:\n",
        "\n",
        "  def sales_calculator(self, price, tax_rate):\n",
        "    tax = price * tax_rate\n",
        "    total = price + tax\n",
        "    return total\n",
        "\n",
        "\n",
        "  def mark_up_down(self, original_price, new_price):\n",
        "    difference = (new_price - original_price)\n",
        "    discount = (difference / original_price)\n",
        "    return(discount)\n",
        "\n",
        "\n",
        "  def price_without_tax(self, price_with_tax, tax_rate):\n",
        "    price_without_tax = price_with_tax / (1 + tax_rate)\n",
        "    return(price_without_tax)\n",
        "\n",
        "\n",
        "  def ask_discount(self, max_price, tax_rate, sales_price):\n",
        "    asking_price = price_without_tax(max_price, tax_rate)\n",
        "    asking_discount = mark_up_down(sales_price, asking_price)\n",
        "    return(asking_discount)\n",
        "\n"
      ],
      "metadata": {
        "id": "gS8Riko7CjYR"
      },
      "execution_count": 116,
      "outputs": []
    },
    {
      "cell_type": "markdown",
      "source": [
        "10. In the code chunk below, test your Haggler class\n",
        "\n",
        "\n",
        "*   Instantiate a Haggler object named **haggle**\n",
        "*   Ask for the current price of the item the user wants to buy\n",
        "*   Ask for the maximum price the user is willing to pay\n",
        "*   Ask for the tax rate\n",
        "*   Call the ask_discount function in haggle\n",
        "*   Print the discount needed\n",
        "\n",
        "\n"
      ],
      "metadata": {
        "id": "TXxM4ipYY6l6"
      }
    },
    {
      "cell_type": "code",
      "source": [
        "haggle = Haggler()\n",
        "sales_price = float(input('What is the current price of the item? $'))\n",
        "max_price = float(input('What is the maximum price you\\'re willing to spend on the item? $'))\n",
        "tax_rate = float(input('What is the tax rate? (%) ')) / 100\n",
        "target_discount = haggle.ask_discount(max_price, tax_rate, sales_price)\n",
        "tax_rate = tax_rate * 100\n",
        "target_discount = round(abs(target_discount) * 100, 2)\n",
        "print(f'To not hit your spending cap of ${max_price}, with a tax rate of {tax_rate}%, you must negotiate a discount (at or above) {target_discount}%')"
      ],
      "metadata": {
        "id": "ETCuZYvfC4aL",
        "colab": {
          "base_uri": "https://localhost:8080/"
        },
        "outputId": "71f7020e-5826-4bee-9515-6c0a14152a00"
      },
      "execution_count": 123,
      "outputs": [
        {
          "output_type": "stream",
          "name": "stdout",
          "text": [
            "What is the current price of the item? $2000\n",
            "What is the maximum price you're willing to spend on the item? $1000\n",
            "What is the tax rate? (%) 10\n",
            "To not hit your spending cap of $1000.0, with a tax rate of 10.0%, you must negotiate a discount (at or above) 54.55%\n"
          ]
        }
      ]
    }
  ]
}