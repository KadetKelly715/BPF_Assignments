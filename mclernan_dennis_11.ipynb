{
  "nbformat": 4,
  "nbformat_minor": 0,
  "metadata": {
    "colab": {
      "provenance": [],
      "include_colab_link": true
    },
    "kernelspec": {
      "name": "python3",
      "display_name": "Python 3"
    },
    "language_info": {
      "name": "python"
    }
  },
  "cells": [
    {
      "cell_type": "markdown",
      "metadata": {
        "id": "view-in-github",
        "colab_type": "text"
      },
      "source": [
        "<a href=\"https://colab.research.google.com/github/KadetKelly715/KadetKelly715/blob/main/mclernan_dennis_11.ipynb\" target=\"_parent\"><img src=\"https://colab.research.google.com/assets/colab-badge.svg\" alt=\"Open In Colab\"/></a>"
      ]
    },
    {
      "cell_type": "markdown",
      "source": [
        "# Exercise 11: Regular Expressions\n",
        "\n",
        "MGMT 330 - Fundamentals of Business Programming\n",
        "\n",
        "Professor Flor"
      ],
      "metadata": {
        "id": "Yo9G685-0Ax9"
      }
    },
    {
      "cell_type": "code",
      "source": [
        "# MCLERNAN, DENNIS\n",
        "# MGMT 330-002\n",
        "# 10/01/2023"
      ],
      "metadata": {
        "id": "nZwpgXzm0IVK"
      },
      "execution_count": null,
      "outputs": []
    },
    {
      "cell_type": "markdown",
      "source": [
        "1. IMPORT THE PANDAS DATAFRAME PACKAGE (LIBRARY)\n",
        "\n",
        "In the code chunk below:\n",
        "\n",
        "*   Import the pandas dataframe package\n",
        "*   Run your code chunk\n",
        "---"
      ],
      "metadata": {
        "id": "CI6oLJTb0OoO"
      }
    },
    {
      "cell_type": "code",
      "source": [
        "import pandas"
      ],
      "metadata": {
        "id": "9Hnyj8Iee4DE"
      },
      "execution_count": 1,
      "outputs": []
    },
    {
      "cell_type": "markdown",
      "source": [
        "2. READ IN THE DATASET, JUST PRINT THE COLUMN NAMES\n",
        "\n",
        "(this reuses the file spike.csv from the lectures)\n",
        "\n",
        "In the code chunk below:\n",
        "\n",
        "*   Read *spike.csv* into a dataframe named **df**\n",
        "*   Print the column names\n",
        "*   Run your code chunk\n",
        "---"
      ],
      "metadata": {
        "id": "6z_UYt8Y0SXP"
      }
    },
    {
      "cell_type": "code",
      "execution_count": 6,
      "metadata": {
        "id": "mQDRow3deKNF",
        "colab": {
          "base_uri": "https://localhost:8080/"
        },
        "outputId": "bd709fd7-62e2-406b-cd1a-2d6aee0feff9"
      },
      "outputs": [
        {
          "output_type": "stream",
          "name": "stdout",
          "text": [
            "Index(['id', 'text', 'created_at', 'author_id', 'conversation_id',\n",
            "       'in_reply_to_user_id', 'referenced_tweets', 'attachments', 'geo',\n",
            "       'context_annotations', 'entities', 'withheld', 'public_metrics',\n",
            "       'possibly_sensitive', 'lang', 'source', 'tweets', 'users', 'places',\n",
            "       'media', 'polls'],\n",
            "      dtype='object')\n"
          ]
        }
      ],
      "source": [
        "fileread = 'drive/MyDrive/spike.csv'\n",
        "df = pandas.read_csv(fileread)\n",
        "columnnames = df.columns\n",
        "print(columnnames)\n"
      ]
    },
    {
      "cell_type": "markdown",
      "source": [
        "3. DATA WRANGLING\n",
        "\n",
        "In the code chunk below:\n",
        "\n",
        "*   Import the pandas dataframe package.\n",
        "*   Create a smaller data set named *df_small* that contains the columns 'id' through 'created_at'\n",
        "*   print the column names\n",
        "*   Save *df_small* to the file *smaller.csv*\n",
        "*   Run your code chunk\n",
        "---"
      ],
      "metadata": {
        "id": "OcSCmhmu018O"
      }
    },
    {
      "cell_type": "code",
      "source": [
        "import pandas\n",
        "df_small = df.loc[:,'id' : 'created_at']\n",
        "print(df_small)\n",
        "df_small.to_csv('smaller.csv')"
      ],
      "metadata": {
        "id": "7hb1SEg9g2BQ",
        "colab": {
          "base_uri": "https://localhost:8080/"
        },
        "outputId": "ff682b94-12bc-41b6-bd95-6711cb015f57"
      },
      "execution_count": 10,
      "outputs": [
        {
          "output_type": "stream",
          "name": "stdout",
          "text": [
            "                       id                                               text  \\\n",
            "0     1496303787966877700  so Jonathan now has inherited powers too #Supe...   \n",
            "1     1496303786893225990  There fake powers dude! They only last as long...   \n",
            "2     1496303780698144773     Clark ain't killing nobody\\r\\n#SupermanAndLois   \n",
            "3     1496303774905872389  Jonathon doesn't have powers he's taking drugs...   \n",
            "4     1496303770120110081  RT @DigiRanma: \"I came in just a couple of day...   \n",
            "...                   ...                                                ...   \n",
            "1852  1496288700505853954  Aspettando il debutto italiano, ecco cosa pens...   \n",
            "1853  1496288700451459073  RT @cwsupermanlois: Being a Kent comes with se...   \n",
            "1854  1496288700308803594                #SupermanAndLois TIME BABYYYY!!!!!!   \n",
            "1855  1496288699427999752  Back to the House of El! New #SupermanAndLois ...   \n",
            "1856  1496288699042222080  @cwsupermanlois #SupermanAndLois #SupermanAndL...   \n",
            "\n",
            "                    created_at  \n",
            "0     2022-02-23T01:59:57.000Z  \n",
            "1     2022-02-23T01:59:57.000Z  \n",
            "2     2022-02-23T01:59:55.000Z  \n",
            "3     2022-02-23T01:59:54.000Z  \n",
            "4     2022-02-23T01:59:53.000Z  \n",
            "...                        ...  \n",
            "1852  2022-02-23T01:00:00.000Z  \n",
            "1853  2022-02-23T01:00:00.000Z  \n",
            "1854  2022-02-23T01:00:00.000Z  \n",
            "1855  2022-02-23T01:00:00.000Z  \n",
            "1856  2022-02-23T01:00:00.000Z  \n",
            "\n",
            "[1857 rows x 3 columns]\n"
          ]
        }
      ]
    },
    {
      "cell_type": "markdown",
      "source": [
        "4. FIND ALL ROWS WHOSE TEXT CONTAINS A SPECIFIC STRING\n",
        "\n",
        "In the code chunk below:\n",
        "\n",
        "*   Create the regex pattern for the exact string 'Clark'\n",
        "*   Find all rows containing that pattern\n",
        "*   Create a new dataframe, *df_clark*, with just the rows containing that pattern\n",
        "*   Save the df_clark as 'clark-results.csv'\n",
        "*   Print the number of entries found\n",
        "*   Run your code chunk\n",
        "---"
      ],
      "metadata": {
        "id": "k5CWTPOP1qh4"
      }
    },
    {
      "cell_type": "code",
      "source": [
        "regex_pattern = r'Clark'\n",
        "rows = df_small.loc[:, 'text'].str.contains(regex_pattern)\n",
        "df_clark = df_small.loc[rows, :]\n",
        "df_clark.to_csv('clark-results.csv')\n",
        "print(len(df_clark), 'entries found')\n"
      ],
      "metadata": {
        "id": "VkZQJdkchujz",
        "colab": {
          "base_uri": "https://localhost:8080/"
        },
        "outputId": "21ebe427-2d92-4ae8-b78d-05317407a3dc"
      },
      "execution_count": 23,
      "outputs": [
        {
          "output_type": "stream",
          "name": "stdout",
          "text": [
            "94 entries found\n"
          ]
        }
      ]
    },
    {
      "cell_type": "markdown",
      "source": [
        "5. FIND ALL ROWS WHOSE TEXT CONTAINS A SPECIFIC WORD\n",
        "\n",
        "In the code chunk below:\n",
        "\n",
        "*   Create the regex pattern for the word 'Lana'\n",
        "*   Find all rows containing that pattern\n",
        "*   Create a new dataframe, *df_lana*, with just the rows containing that word\n",
        "*   Save the df_lana as 'lana-results.csv'\n",
        "*   Print the number of entries found\n",
        "*   Run your code chunk\n",
        "---"
      ],
      "metadata": {
        "id": "lxDN9rjg2wqz"
      }
    },
    {
      "cell_type": "code",
      "source": [
        "regex_pattern = r'\\bLana\\b'\n",
        "rows = df_small.loc[:, 'text'].str.contains(regex_pattern)\n",
        "df_lana = df_small.loc[rows, :]\n",
        "df_lana.to_csv('lana-results.csv')\n",
        "print(len(df_lana), 'entries found')"
      ],
      "metadata": {
        "id": "wuT-wDnIj8B1",
        "colab": {
          "base_uri": "https://localhost:8080/"
        },
        "outputId": "877b6bf0-1d94-4f96-ce8c-c2d798874ec3"
      },
      "execution_count": 24,
      "outputs": [
        {
          "output_type": "stream",
          "name": "stdout",
          "text": [
            "57 entries found\n"
          ]
        }
      ]
    },
    {
      "cell_type": "code",
      "source": [
        "6. FIND ALL ROWS CONTAINING URLS\n",
        "\n",
        "In the code chunk below:\n",
        "\n",
        "*   Create the regex pattern for a URL\n",
        "*   Find all rows containing that pattern\n",
        "*   Create a new dataframe, *df_url*, with just the rows containing that pattern\n",
        "*   Save the df_url as 'url-results.csv'\n",
        "*   Print the number of entries found\n",
        "*   Run your code chunk\n",
        "---"
      ],
      "metadata": {
        "id": "Zvb_nvTX5KXb"
      },
      "execution_count": null,
      "outputs": []
    },
    {
      "cell_type": "code",
      "source": [
        "url_pattern = r'http.* '\n",
        "rows = df_small.loc[:, 'text'].str.contains(url_pattern)\n",
        "df_url = df_small.loc[rows, :]\n",
        "df_url.to_csv('url-results.csv')\n",
        "print(len(df_url), 'entries found')"
      ],
      "metadata": {
        "id": "S6p9hr_hlpAf",
        "colab": {
          "base_uri": "https://localhost:8080/"
        },
        "outputId": "6e051327-0981-4536-c4e6-cacfab8ed567"
      },
      "execution_count": 22,
      "outputs": [
        {
          "output_type": "stream",
          "name": "stdout",
          "text": [
            "14 entries found\n"
          ]
        }
      ]
    },
    {
      "cell_type": "markdown",
      "source": [
        "When finished, download your notebook, and follow instructions on CANVAS for renaming and submitting your assignment."
      ],
      "metadata": {
        "id": "JpCVQVT35cln"
      }
    }
  ]
}