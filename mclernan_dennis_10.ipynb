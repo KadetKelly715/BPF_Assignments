{
  "nbformat": 4,
  "nbformat_minor": 0,
  "metadata": {
    "colab": {
      "provenance": [],
      "include_colab_link": true
    },
    "kernelspec": {
      "name": "python3",
      "display_name": "Python 3"
    },
    "language_info": {
      "name": "python"
    }
  },
  "cells": [
    {
      "cell_type": "markdown",
      "metadata": {
        "id": "view-in-github",
        "colab_type": "text"
      },
      "source": [
        "<a href=\"https://colab.research.google.com/github/KadetKelly715/KadetKelly715/blob/main/mclernan_dennis_10.ipynb\" target=\"_parent\"><img src=\"https://colab.research.google.com/assets/colab-badge.svg\" alt=\"Open In Colab\"/></a>"
      ]
    },
    {
      "cell_type": "markdown",
      "source": [
        "# Exercise 10: Basic Data Frames\n",
        "\n",
        "MGMT 330 - Fundamentals of Business Programming\n",
        "\n",
        "Professor Flor"
      ],
      "metadata": {
        "id": "PlDJmmDBuTYL"
      }
    },
    {
      "cell_type": "code",
      "source": [
        "# [MCLERNAN, DENNIS]\n",
        "# MGMT 330-[002]\n",
        "# [10/1/2023]"
      ],
      "metadata": {
        "id": "0XyvwN8Xt8Oy"
      },
      "execution_count": null,
      "outputs": []
    },
    {
      "cell_type": "markdown",
      "source": [
        "1. IMPORT THE PANDAS DATAFRAME PACKAGE (LIBRARY)\n",
        "\n",
        "In the code chunk below:\n",
        "\n",
        "*   Import the pandas dataframe package.\n",
        "*   Run your code chunk\n",
        "---"
      ],
      "metadata": {
        "id": "g_thv9uVumXk"
      }
    },
    {
      "cell_type": "code",
      "source": [
        "import pandas"
      ],
      "metadata": {
        "id": "FWwfYl78phi8"
      },
      "execution_count": 1,
      "outputs": []
    },
    {
      "cell_type": "markdown",
      "source": [
        "2. HARD CODE A DICTIONARY AND MAKE IT A DATA FRAME\n",
        "\n",
        "In the code chunk below:\n",
        "\n",
        "*   Create a data dictionary named **data**, with the following keys/values:\n",
        "  *   Key: 'name', values: 'george', 'jane', 'judy', 'elroy'\n",
        "  *   Key: 'age', values: 30, 29, 17, 12\n",
        "  *   Key: 'nickname', values: 'geo', 'jay', 'jude', 'el'\n",
        "*   Convert **data** to a data frame named **dataframe**\n",
        "*   Print the data frame\n",
        "* Run your code chunk\n",
        "---\n"
      ],
      "metadata": {
        "id": "rWCJGp-Gu30K"
      }
    },
    {
      "cell_type": "code",
      "execution_count": 5,
      "metadata": {
        "id": "u_XNDRwXlV11",
        "colab": {
          "base_uri": "https://localhost:8080/"
        },
        "outputId": "17544ebd-de3e-48b8-f014-24afcf40d7b2"
      },
      "outputs": [
        {
          "output_type": "stream",
          "name": "stdout",
          "text": [
            "     name  age nickname\n",
            "0  george   30      geo\n",
            "1    jane   29      jay\n",
            "2    judy   17     jude\n",
            "3   betty   12       el\n"
          ]
        }
      ],
      "source": [
        "data = {\n",
        "    'name' : ['george', 'jane', 'judy', 'betty'],\n",
        "    'age' : [30, 29, 17, 12],\n",
        "    'nickname' : ['geo', 'jay', 'jude', 'el']\n",
        "}\n",
        "dataframe = pandas.DataFrame(data)\n",
        "print(dataframe)"
      ]
    },
    {
      "cell_type": "markdown",
      "source": [
        "3. ADD ROW NAMES (INDICES) TO YOUR DATA FRAME\n",
        "\n",
        "In the code chunk below:\n",
        "\n",
        "*   Create the following indices for your data frame in #2: 'A', 'B', 'C', 'D'\n",
        "*   Print the data frame\n",
        "* Run your code chunk\n",
        "---\n"
      ],
      "metadata": {
        "id": "bfeGrE5vwmOO"
      }
    },
    {
      "cell_type": "code",
      "source": [
        "dataframe.index = ['A', 'B', 'C', 'D']\n",
        "print(dataframe)"
      ],
      "metadata": {
        "id": "jdDV8Dd2p8jY",
        "colab": {
          "base_uri": "https://localhost:8080/"
        },
        "outputId": "f8102f35-2c5e-400f-954b-fcc1350a7812"
      },
      "execution_count": 6,
      "outputs": [
        {
          "output_type": "stream",
          "name": "stdout",
          "text": [
            "     name  age nickname\n",
            "A  george   30      geo\n",
            "B    jane   29      jay\n",
            "C    judy   17     jude\n",
            "D   betty   12       el\n"
          ]
        }
      ]
    },
    {
      "cell_type": "markdown",
      "source": [
        "4. ACCESSING A SINGLE CELL\n",
        "\n",
        "In the code chunk below:\n",
        "\n",
        "*   Print the value at row 'C', column 'nickname'\n",
        "*   Print the value at row 'B', column 'age'\n",
        "* Run your code chunk\n",
        "---\n"
      ],
      "metadata": {
        "id": "6Gs5tS9Exjr8"
      }
    },
    {
      "cell_type": "code",
      "source": [
        "nickname_find = dataframe.loc['C', 'nickname']\n",
        "print(nickname_find)\n",
        "age_find = dataframe.loc['B', 'age']\n",
        "print(age_find)"
      ],
      "metadata": {
        "id": "L8ClrCnjqVJD",
        "colab": {
          "base_uri": "https://localhost:8080/"
        },
        "outputId": "2f39ab0c-60a7-4219-ec56-d04ceb939797"
      },
      "execution_count": 8,
      "outputs": [
        {
          "output_type": "stream",
          "name": "stdout",
          "text": [
            "jude\n",
            "29\n"
          ]
        }
      ]
    },
    {
      "cell_type": "markdown",
      "source": [
        "5. ACCESSING RANGES\n",
        "\n",
        "In the code chunk below:\n",
        "\n",
        "*   Print rows A and C, all columns\n",
        "*   Print rows B through D, and just the columns 'name' and 'nickname'\n",
        "* Run your code chunk\n",
        "---\n"
      ],
      "metadata": {
        "id": "UzXTXsUuyKCg"
      }
    },
    {
      "cell_type": "code",
      "source": [
        "rows2_range = dataframe.loc[['A','C'],['name', 'age', 'nickname']]\n",
        "print(rows_range)\n",
        "rows3_range = dataframe.loc['B' : 'D', 'name' : 'nickname']\n",
        "print(rows3_range)"
      ],
      "metadata": {
        "id": "GEXTzpAuqyEf",
        "colab": {
          "base_uri": "https://localhost:8080/"
        },
        "outputId": "009b8919-d5ce-47e2-e21b-9b8f2559c080"
      },
      "execution_count": 13,
      "outputs": [
        {
          "output_type": "stream",
          "name": "stdout",
          "text": [
            "     name  age nickname\n",
            "A  george   30      geo\n",
            "C    judy   17     jude\n",
            "    name  age nickname\n",
            "B   jane   29      jay\n",
            "C   judy   17     jude\n",
            "D  betty   12       el\n"
          ]
        }
      ]
    },
    {
      "cell_type": "markdown",
      "source": [
        "When finished, followed the instructions on CANVAS for downloading, naming your file, and uploading it."
      ],
      "metadata": {
        "id": "FUHHrTtyzDKW"
      }
    }
  ]
}